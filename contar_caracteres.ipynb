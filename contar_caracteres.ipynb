{
  "nbformat": 4,
  "nbformat_minor": 0,
  "metadata": {
    "colab": {
      "name": "contar caracteres.ipynb",
      "provenance": [],
      "collapsed_sections": [],
      "authorship_tag": "ABX9TyOH9CwN8Jxfy/2Z4/GS1z9f",
      "include_colab_link": true
    },
    "kernelspec": {
      "name": "python3",
      "display_name": "Python 3"
    }
  },
  "cells": [
    {
      "cell_type": "markdown",
      "metadata": {
        "id": "view-in-github",
        "colab_type": "text"
      },
      "source": [
        "<a href=\"https://colab.research.google.com/github/C4st3ll4n/Cods_Py/blob/master/contar_caracteres.ipynb\" target=\"_parent\"><img src=\"https://colab.research.google.com/assets/colab-badge.svg\" alt=\"Open In Colab\"/></a>"
      ]
    },
    {
      "cell_type": "code",
      "metadata": {
        "id": "UjJjxnlTb3Yi"
      },
      "source": [
        "\"\"\" Contar caracteres em lista \"\"\"\n",
        "def count_char(s):\n",
        "    \"\"\"\n",
        "    Contar caracteres de uma string\n",
        "    :param s: string a ser contada\n",
        "\n",
        "    Ex: \n",
        "    >>>count_char('pedro')\n",
        "\n",
        "    e: 1\n",
        "    o: 1\n",
        "    d: 1\n",
        "    p: 1\n",
        "    r: 1\n",
        "    \"\"\"\n",
        "    ordenados = sorted(s)\n",
        "    char_anterior = ordenados[0]\n",
        "    size = 1\n",
        "\n",
        "    for char in ordenados[1:]:\n",
        "        if char == char_anterior:\n",
        "            size+=1\n",
        "        else:\n",
        "            print(f\"{char_anterior} -- {size}\")\n",
        "            char_anterior = char\n",
        "            size = 1\n",
        "    print(f\"{char_anterior}: {size}\")\n"
      ],
      "execution_count": 18,
      "outputs": []
    },
    {
      "cell_type": "code",
      "metadata": {
        "id": "hZOSBLaOcJeV",
        "outputId": "0605b897-6671-4d63-ef79-408f9dc0b0de",
        "colab": {
          "base_uri": "https://localhost:8080/",
          "height": 102
        }
      },
      "source": [
        "count_char(\"Pedro\")"
      ],
      "execution_count": 19,
      "outputs": [
        {
          "output_type": "stream",
          "text": [
            "P -- 1\n",
            "d -- 1\n",
            "e -- 1\n",
            "o -- 1\n",
            "r: 1\n"
          ],
          "name": "stdout"
        }
      ]
    },
    {
      "cell_type": "code",
      "metadata": {
        "id": "0J0geuokchg_"
      },
      "source": [
        "\"\"\" Contar caracteres em dicionario \"\"\"\n",
        "def count_char_dict(str):\n",
        "    \"\"\"\n",
        "    Contar caracteres de uma string\n",
        "    :param str: string a ser contada\n",
        "    :return r: dict\n",
        "\n",
        "    Ex: \n",
        "    >>>count_char('pedro')\n",
        "\n",
        "    {'e': 1,    'o': 1,   'd': 1,    'p': 1,    'r': 1}\n",
        "    \n",
        "    \"\"\"\n",
        "    r = {}\n",
        "\n",
        "    for char in str:\n",
        "        r[char] = r.get(char,0) + 1\n",
        "\n",
        "    return r"
      ],
      "execution_count": 30,
      "outputs": []
    },
    {
      "cell_type": "code",
      "metadata": {
        "id": "QVwUDLbuewiu",
        "outputId": "f7e3381c-95a1-4f19-9686-bc66a9d8ce22",
        "colab": {
          "base_uri": "https://localhost:8080/",
          "height": 34
        }
      },
      "source": [
        "count_char_dict(\"Pedro\")"
      ],
      "execution_count": 31,
      "outputs": [
        {
          "output_type": "execute_result",
          "data": {
            "text/plain": [
              "{'P': 1, 'd': 1, 'e': 1, 'o': 1, 'r': 1}"
            ]
          },
          "metadata": {
            "tags": []
          },
          "execution_count": 31
        }
      ]
    },
    {
      "cell_type": "code",
      "metadata": {
        "id": "aHuS-FVXeyKh",
        "outputId": "19166bce-802c-44eb-aaeb-d8cf19b549f3",
        "colab": {
          "base_uri": "https://localhost:8080/",
          "height": 34
        }
      },
      "source": [
        "count_char_dict(\"emanoel\")"
      ],
      "execution_count": 33,
      "outputs": [
        {
          "output_type": "execute_result",
          "data": {
            "text/plain": [
              "{'a': 1, 'e': 2, 'l': 1, 'm': 1, 'n': 1, 'o': 1}"
            ]
          },
          "metadata": {
            "tags": []
          },
          "execution_count": 33
        }
      ]
    },
    {
      "cell_type": "code",
      "metadata": {
        "id": "w7K-hSyqfzfh"
      },
      "source": [
        ""
      ],
      "execution_count": null,
      "outputs": []
    }
  ]
}